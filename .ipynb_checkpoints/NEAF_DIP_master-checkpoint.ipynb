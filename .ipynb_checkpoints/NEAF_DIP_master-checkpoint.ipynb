{
 "cells": [
  {
   "cell_type": "markdown",
   "id": "25da93d8",
   "metadata": {},
   "source": [
    "## Student Information\n",
    "Name: "
   ]
  },
  {
   "cell_type": "markdown",
   "id": "dcf41385",
   "metadata": {},
   "source": [
    "---"
   ]
  },
  {
   "cell_type": "markdown",
   "id": "3090cafc",
   "metadata": {},
   "source": [
    "\n",
    "## **Instruction**\n",
    "  \n",
    "Welcome to NEAF DIP workshop!  \n",
    "Here we prepare some widely used methods to let you practice, including:\n",
    "1. Histogram Equalization\n",
    "2. Mean blur, Median blur, Gaussian blur\n",
    "3. Binary\n",
    "4. HSV filter\n",
    "5. Morphological: erosion, dilation, open, close\n",
    "6. Find contours\n",
    "\n",
    "Those skills are very powerful and important skills, please enjoy learning and put them into good use :)\n",
    "\n",
    "---"
   ]
  },
  {
   "cell_type": "markdown",
   "id": "5fda3c09",
   "metadata": {},
   "source": [
    "## **1. Histogram Equalization**\n",
    "Histogram is the method to enhance image contrast.  \n",
    "Please show the image grayscale histogram and do the equlization, and show the image result and histogram equalization result.  \n",
    "\n",
    "<img src=\"md_picture/1.png\" width=\"60%\" heught=\"60%\">"
   ]
  },
  {
   "cell_type": "code",
   "execution_count": 15,
   "id": "52e0a8cf",
   "metadata": {},
   "outputs": [],
   "source": [
    "import cv2\n",
    "import numpy as np\n",
    "import matplotlib.pyplot as plt"
   ]
  },
  {
   "cell_type": "code",
   "execution_count": 16,
   "id": "6a4e1764",
   "metadata": {
    "scrolled": true
   },
   "outputs": [
    {
     "data": {
      "text/plain": [
       "True"
      ]
     },
     "execution_count": 16,
     "metadata": {},
     "output_type": "execute_result"
    },
    {
     "data": {
      "image/png": "[encoded data removed]",
      "text/plain": [
       "<Figure size 640x480 with 2 Axes>"
      ]
     },
     "metadata": {},
     "output_type": "display_data"
    }
   ],
   "source": [
    "img_ori = cv2.imread('input/lena.bmp', cv2.IMREAD_GRAYSCALE) # Read image as gray.\n",
    "\n",
    "img_equa = cv2.equalizeHist(img_ori)\n",
    "\n",
    "plt.subplot(2, 1, 1)\n",
    "plt.hist(img_ori.ravel(), 256, [0, 255], label= 'original image')\n",
    "plt.legend()\n",
    "\n",
    "plt.subplot(2, 1, 2)\n",
    "plt.hist(img_equa.ravel(), 256, [0, 255], label= 'equalize image')\n",
    "plt.legend()\n",
    "\n",
    "# save result\n",
    "cv2.imwrite('output/img_ori.bmp', img_ori)\n",
    "cv2.imwrite('output/img_equa.bmp', img_equa)"
   ]
  },
  {
   "cell_type": "markdown",
   "id": "73f79729",
   "metadata": {},
   "source": [
    "_keywords: plt.hist, cv2.equalizeHist, cv2.calcHist_"
   ]
  },
  {
   "cell_type": "markdown",
   "id": "54cc6285",
   "metadata": {},
   "source": [
    "---"
   ]
  },
  {
   "cell_type": "markdown",
   "id": "9012b931",
   "metadata": {},
   "source": [
    "## **2. Mean blur, Gaussian blur, Median blur**\n",
    "Blur is a method to deal with the noise on the image.\n",
    "Please input the image and use different kernel size to show blur result.\n",
    "\n",
    "<img src=\"md_picture/2.png\" width=\"60%\" heught=\"60%\">\n",
    "<img src=\"md_picture/3.png\" width=\"60%\" heught=\"60%\">"
   ]
  },
  {
   "cell_type": "code",
   "execution_count": 17,
   "id": "d8951cca",
   "metadata": {},
   "outputs": [
    {
     "data": {
      "text/plain": [
       "True"
      ]
     },
     "execution_count": 17,
     "metadata": {},
     "output_type": "execute_result"
    }
   ],
   "source": [
    "img_noise = cv2.imread('input/lena_noise.png', cv2.IMREAD_GRAYSCALE)\n",
    "\n",
    "# Blur the image by three methods.\n",
    "img_mean_blur=cv2.blur(img_noise,(5, 5))\n",
    "img_gaussian_blur=cv2.GaussianBlur(img_noise, (5,5), 0, 0)\n",
    "img_median_blur=cv2.medianBlur(img_noise, 5)\n",
    "\n",
    "\n",
    "# save result\n",
    "cv2.imwrite('output/img_mean_blur.png', img_mean_blur)\n",
    "cv2.imwrite('output/img_gaussian_blur.png', img_gaussian_blur)\n",
    "cv2.imwrite('output/img_median_blur.png', img_median_blur)\n",
    "cv2.imwrite('output/img_noise.png', img_noise)"
   ]
  },
  {
   "cell_type": "markdown",
   "id": "92f24f83",
   "metadata": {},
   "source": [
    "### Question:\n",
    "1. What is the difference between three methods? When to use them?\n",
    "2. What is the difference if the kernel size changes?  \n"
   ]
  },
  {
   "cell_type": "markdown",
   "id": "f2feea43",
   "metadata": {},
   "source": [
    "_keywords: cv2.blur, cv2.GaussianBlur, cv2.medianBlur_"
   ]
  },
  {
   "cell_type": "markdown",
   "id": "ca7f00a2",
   "metadata": {},
   "source": [
    "---"
   ]
  },
  {
   "cell_type": "markdown",
   "id": "585c3a2a",
   "metadata": {},
   "source": [
    "## **3. Binary**\n",
    "Binary is a method to transfer greyscale to 0 (black) and 255 (white) only.  \n",
    "Please do the image binary to seperate pad and background.  \n",
    "\n",
    "<img src=\"md_picture/4.png\" width=\"60%\" heught=\"60%\">"
   ]
  },
  {
   "cell_type": "code",
   "execution_count": 18,
   "id": "9dca18b2",
   "metadata": {
    "scrolled": true
   },
   "outputs": [
    {
     "data": {
      "text/plain": [
       "True"
      ]
     },
     "execution_count": 18,
     "metadata": {},
     "output_type": "execute_result"
    }
   ],
   "source": [
    "binary1 = cv2.imread('input/binary_task1.bmp', cv2.IMREAD_GRAYSCALE)\n",
    "\n",
    "# Do the image binary to seperate pad and background\n",
    "\n",
    "_, thres1 = cv2.threshold(binary1, 115, 255, cv2.THRESH_BINARY)\n",
    "\n",
    "# save result\n",
    "\n",
    "cv2.imwrite('output/binary_task1.bmp', thres1)"
   ]
  },
  {
   "cell_type": "code",
   "execution_count": 19,
   "id": "c18769fa",
   "metadata": {},
   "outputs": [
    {
     "data": {
      "text/plain": [
       "True"
      ]
     },
     "execution_count": 19,
     "metadata": {},
     "output_type": "execute_result"
    }
   ],
   "source": [
    "binary2 = cv2.imread('input/binary_task2.bmp', cv2.IMREAD_GRAYSCALE)\n",
    "\n",
    "# Do the image binary to seperate pad and background\n",
    "\n",
    "_, thres2 = cv2.threshold(binary2, 120, 255, cv2.THRESH_BINARY)\n",
    "\n",
    "# save result\n",
    "cv2.imwrite('output/binary_task2.bmp', thres2)"
   ]
  },
  {
   "cell_type": "code",
   "execution_count": 20,
   "id": "f1f54701",
   "metadata": {},
   "outputs": [
    {
     "data": {
      "text/plain": [
       "True"
      ]
     },
     "execution_count": 20,
     "metadata": {},
     "output_type": "execute_result"
    }
   ],
   "source": [
    "binary3 = cv2.imread('input/binary_task3.bmp', cv2.IMREAD_GRAYSCALE)\n",
    "\n",
    "# Do the image binary to seperate pad and background\n",
    "\n",
    "_, thres3 = cv2.threshold(binary3, 100, 255, cv2.THRESH_BINARY)\n",
    "\n",
    "# save result\n",
    "cv2.imwrite('output/binary_task3.bmp', thres3)"
   ]
  },
  {
   "cell_type": "markdown",
   "id": "18c89c6a",
   "metadata": {},
   "source": [
    "### Questions:\n",
    "1. What are the limits of this methods?\n",
    "2. What if the light source is not uniform? Is this method still work? How to improve it?  "
   ]
  },
  {
   "cell_type": "markdown",
   "id": "771f36bc",
   "metadata": {},
   "source": [
    "_keywords: cv2.threshold_"
   ]
  },
  {
   "cell_type": "markdown",
   "id": "68884c88",
   "metadata": {},
   "source": [
    "---"
   ]
  },
  {
   "cell_type": "markdown",
   "id": "2047595d",
   "metadata": {},
   "source": [
    "## **4. HSV filter**\n",
    "This method could extract the the interested part by color.  \n",
    "Please crop the yellow or blue boxes and its surrounding in the image.\n",
    "\n",
    "<img src=\"md_picture/5.png\" width=\"30%\" heught=\"30%\">\n",
    "\n",
    "### Steps:\n",
    "1. Transfer color to HSV.\n",
    "2. Setting the color range and filter the image. (output the color image in the setting range)\n",
    "3. Binary the image, find the left-top and right-bottom coordinate.\n",
    "4. Crop the image by the coordinate.  \n",
    "\n",
    "- Noted: Blur, histogram equalization methods could be used if needed.  "
   ]
  },
  {
   "cell_type": "code",
   "execution_count": 37,
   "id": "0dc86b24",
   "metadata": {
    "scrolled": false
   },
   "outputs": [
    {
     "ename": "IndexError",
     "evalue": "tuple index out of range",
     "output_type": "error",
     "traceback": [
      "\u001b[1;31m---------------------------------------------------------------------------\u001b[0m",
      "\u001b[1;31mIndexError\u001b[0m                                Traceback (most recent call last)",
      "Cell \u001b[1;32mIn[37], line 20\u001b[0m\n\u001b[0;32m     18\u001b[0m cv2\u001b[38;5;241m.\u001b[39mimwrite(\u001b[38;5;124m'\u001b[39m\u001b[38;5;124moutput/test2.jpg\u001b[39m\u001b[38;5;124m'\u001b[39m, binary_yellow)\n\u001b[0;32m     19\u001b[0m contours, _ \u001b[38;5;241m=\u001b[39m cv2\u001b[38;5;241m.\u001b[39mfindContours(binary_yellow, cv2\u001b[38;5;241m.\u001b[39mRETR_EXTERNAL, cv2\u001b[38;5;241m.\u001b[39mCHAIN_APPROX_SIMPLE)\n\u001b[1;32m---> 20\u001b[0m x, y, w, h \u001b[38;5;241m=\u001b[39m cv2\u001b[38;5;241m.\u001b[39mboundingRect(\u001b[43mcontours\u001b[49m\u001b[43m[\u001b[49m\u001b[38;5;241;43m0\u001b[39;49m\u001b[43m]\u001b[49m)\n\u001b[0;32m     21\u001b[0m \u001b[38;5;66;03m# Step 4. Crop the image by the coordinate.\u001b[39;00m\n\u001b[0;32m     22\u001b[0m crop_edge \u001b[38;5;241m=\u001b[39m \u001b[38;5;241m20\u001b[39m  \u001b[38;5;66;03m# surrounding 20 pixels \u001b[39;00m\n",
      "\u001b[1;31mIndexError\u001b[0m: tuple index out of range"
     ]
    }
   ],
   "source": [
    "# Yellow box.\n",
    "yellow = cv2.imread('input/yellow.jpg')\n",
    "\n",
    "# Step 1. Transfer color to HSV\n",
    "hsv_yellow = cv2.cvtColor(yellow, cv2.COLOR_BGR2HSV)\n",
    "# Step 2. Setting the color range and filter the image.\n",
    "lower_yellow = np.array([40, 130, 155])\n",
    "upper_yellow = np.array([66, 255, 255])\n",
    "\n",
    "mask_yellow = cv2.inRange(hsv_yellow, lower_yellow, upper_yellow)\n",
    "filtered_yellow = cv2.bitwise_and(yellow, yellow, mask=mask_yellow)\n",
    "\n",
    "cv2.imwrite('output/test1.jpg', filtered_yellow)\n",
    "\n",
    "\n",
    "# Step 3. Binary the image, find the left-top and right-bottom coordinate (x, y, w, h) or (x1, x2, y1, y2).\n",
    "_, binary_yellow = cv2.threshold(mask_yellow, 1, 255, cv2.THRESH_BINARY)\n",
    "cv2.imwrite('output/test2.jpg', binary_yellow)\n",
    "contours, _ = cv2.findContours(binary_yellow, cv2.RETR_EXTERNAL, cv2.CHAIN_APPROX_SIMPLE)\n",
    "x, y, w, h = cv2.boundingRect(contours[0])\n",
    "# Step 4. Crop the image by the coordinate.\n",
    "crop_edge = 20  # surrounding 20 pixels \n",
    "cropHSV_yellow = yellow[y-crop_edge: y+h+crop_edge, x-crop_edge: x+w+crop_edge]   # take (x, y, w, h) as example.\n",
    "\n",
    "# save result\n",
    "cv2.imwrite('output/cropHSV_yellow.jpg', cropHSV_yellow)\n"
   ]
  },
  {
   "cell_type": "code",
   "execution_count": null,
   "id": "e5f1a6e1",
   "metadata": {
    "scrolled": false
   },
   "outputs": [],
   "source": [
    "# Blue box.\n",
    "blue = cv2.imread('input/blue.jpg')\n",
    "\n",
    "# Step 1. Transfer color to HSV\n",
    "\n",
    "# Step 2. Setting the color range and filter the image.\n",
    "\n",
    "# Step 3. Binary the image, find the left-top and right-bottom coordinate (x, y, w, h) or (x1, x2, y1, y2).\n",
    "\n",
    "# Step 4. Crop the image by the coordinate.\n",
    "crop_edge = 20  # surrounding 20 pixels \n",
    "cropHSV_blue = blue[y-crop_edge: y+h+crop_edge, x-crop_edge: x+w+crop_edge]   # take (x, y, w, h) as example.\n",
    "\n",
    "# save result\n",
    "cv2.imwrite('output/cropHSV_blue.jpg', cropHSV_blue)"
   ]
  },
  {
   "cell_type": "markdown",
   "id": "56a579b9",
   "metadata": {},
   "source": [
    "---"
   ]
  },
  {
   "cell_type": "markdown",
   "id": "69016291",
   "metadata": {},
   "source": [
    "## **5. Morphological: erosion, dilation, open, close**\n",
    "\n",
    "Those methods help to denoise, enhance the features.   \n",
    "Please use these methods to fill up the lines of the image created in the previous section.\n",
    "\n",
    "<img src=\"md_picture/6.png\" width=\"60%\" heught=\"60%\">"
   ]
  },
  {
   "cell_type": "code",
   "execution_count": 22,
   "id": "b0da48f2",
   "metadata": {},
   "outputs": [
    {
     "data": {
      "text/plain": [
       "True"
      ]
     },
     "execution_count": 22,
     "metadata": {},
     "output_type": "execute_result"
    }
   ],
   "source": [
    "hsv_yellow = cv2.imread('output/cropHSV_yellow.jpg')\n",
    "\n",
    "# Try to use erosion, dilation, open, close to fill up the lines.\n",
    "\n",
    "\"\"\"\n",
    "Your code here\n",
    "\"\"\"\n",
    "\n",
    "# save result\n",
    "cv2.imwrite('output/morpho_yellow.jpg', result)"
   ]
  },
  {
   "cell_type": "code",
   "execution_count": 23,
   "id": "4c3ff0cb",
   "metadata": {
    "scrolled": false
   },
   "outputs": [
    {
     "data": {
      "text/plain": [
       "True"
      ]
     },
     "execution_count": 23,
     "metadata": {},
     "output_type": "execute_result"
    }
   ],
   "source": [
    "hsv_blue = cv2.imread('output/cropHSV_blue.jpg')\n",
    "\n",
    "# Try to use erosion, dilation, open, close to fill up the lines.\n",
    "\n",
    "\"\"\"\n",
    "Your code here\n",
    "\"\"\"\n",
    "\n",
    "# save result\n",
    "cv2.imwrite('output/morpho_blue.jpg', result)"
   ]
  },
  {
   "cell_type": "markdown",
   "id": "5c352e50",
   "metadata": {},
   "source": [
    "_keywords: cv2.erode, cv2.dilate, cv2.morpholopyEx_"
   ]
  },
  {
   "cell_type": "markdown",
   "id": "8ebc07d5",
   "metadata": {},
   "source": [
    "---"
   ]
  },
  {
   "cell_type": "markdown",
   "id": "4b69cec6",
   "metadata": {},
   "source": [
    "## **6. Find countours**\n",
    "\n",
    "Use package to find the contours in the image.\n",
    "\n",
    "Practice:\n",
    "1. Find the pad and probemark contours in the pad series images.\n",
    "2. Calculate the countours area.\n",
    "\n",
    "<img src=\"md_picture/7.png\" width=\"60%\" heught=\"60%\">"
   ]
  },
  {
   "cell_type": "code",
   "execution_count": 34,
   "id": "e35f1640",
   "metadata": {},
   "outputs": [
    {
     "name": "stdout",
     "output_type": "stream",
     "text": [
      "The pad area is  12055.5\n",
      "The probe mark area is  181.5\n"
     ]
    }
   ],
   "source": [
    "pad_task1 = cv2.imread('input/binary_task1.bmp', cv2.IMREAD_GRAYSCALE)\n",
    "_, thres1 = cv2.threshold(pad_task1, 115, 255, cv2.THRESH_BINARY)\n",
    "cv2.imwrite('output/test.bmp', thres1)\n",
    "# Find the pad and probemark contours and draw.\n",
    "\n",
    "# 尋找輪廓\n",
    "contours, hierarchy = cv2.findContours(thres1, cv2.RETR_TREE, cv2.CHAIN_APPROX_SIMPLE)\n",
    "result_ = cv2.cvtColor(pad_task1, cv2.COLOR_GRAY2BGR)\n",
    "\n",
    "pad_area = 0\n",
    "probemark_area = 0\n",
    "\n",
    "for contour in contours:\n",
    "    # 計算輪廓的面積\n",
    "    contour_area = cv2.contourArea(contour)\n",
    "    \n",
    "    # 忽略過小的輪廓\n",
    "    if contour_area < 50:\n",
    "        continue\n",
    "    \n",
    "    # 繪製輪廓\n",
    "    result=cv2.drawContours(result_, [contour], -1, (0, 0, 255), 1)\n",
    "    \n",
    "    # 根據面積大小判斷是 pad 還是 probemark\n",
    "    if contour_area > 500:\n",
    "        pad_area += contour_area\n",
    "    else:\n",
    "        probemark_area += contour_area\n",
    "\n",
    "# save and print result\n",
    "cv2.imwrite('output/pad_task1_cont.bmp', result)\n",
    "print('The pad area is ', pad_area)\n",
    "print('The probe mark area is ', probemark_area)"
   ]
  },
  {
   "cell_type": "markdown",
   "id": "d4cd3ca2",
   "metadata": {},
   "source": [
    "_keywords: cv2.findContours, cv2.contourArea_"
   ]
  },
  {
   "cell_type": "markdown",
   "id": "fa7d9669",
   "metadata": {},
   "source": [
    "---"
   ]
  },
  {
   "cell_type": "markdown",
   "id": "607b55c9",
   "metadata": {},
   "source": [
    "### **Extra Challenge**\n",
    "\n",
    "Try to find the contours of circular workspace in the image.  \n",
    "You can use other DIP methods from other packages.\n",
    "\n",
    "<img src=\"md_picture/8.png\" width=\"50%\" height=\"50%\">\n",
    "\n",
    "- Hint : The light source isn't uniform, try to eliminate the the influence of the light source."
   ]
  },
  {
   "cell_type": "code",
   "execution_count": null,
   "id": "49332ca6",
   "metadata": {},
   "outputs": [],
   "source": [
    "img = cv2.imread('input/extra_1.bmp')\n",
    "\n",
    "# Find the contour of circular workspace in the image.\n",
    "\n",
    "\"\"\"\n",
    "Your code here\n",
    "\"\"\"\n",
    "\n",
    "# save and print result\n",
    "cv2.imwrite('output/pad_task1_cont.bmp', result)"
   ]
  },
  {
   "cell_type": "code",
   "execution_count": null,
   "id": "58bab2e1",
   "metadata": {},
   "outputs": [],
   "source": [
    "img = cv2.imread('input/extra_2.bmp')\n",
    "\n",
    "# Find the contour of circular workspace in the image.\n",
    "\n",
    "\"\"\"\n",
    "Your code here\n",
    "\"\"\"\n",
    "\n",
    "# save and print result\n",
    "cv2.imwrite('output/pad_task1_cont.bmp', result)"
   ]
  },
  {
   "cell_type": "code",
   "execution_count": null,
   "id": "3361cac9",
   "metadata": {},
   "outputs": [],
   "source": [
    "img = cv2.imread('input/extra_3.bmp')\n",
    "\n",
    "# Find the contour of circular workspace in the image.\n",
    "\n",
    "\"\"\"\n",
    "Your code here\n",
    "\"\"\"\n",
    "\n",
    "# save and print result\n",
    "cv2.imwrite('output/pad_task1_cont.bmp', result)"
   ]
  }
 ],
 "metadata": {
  "kernelspec": {
   "display_name": "Python 3 (ipykernel)",
   "language": "python",
   "name": "python3"
  },
  "language_info": {
   "codemirror_mode": {
    "name": "ipython",
    "version": 3
   },
   "file_extension": ".py",
   "mimetype": "text/x-python",
   "name": "python",
   "nbconvert_exporter": "python",
   "pygments_lexer": "ipython3",
   "version": "3.10.10"
  },
  "vscode": {
   "interpreter": {
    "hash": "82ed002fa2d4956f5c6aec99bcefe0f73a9f79882f3c9e2319b14958a5896ac5"
   }
  }
 },
 "nbformat": 4,
 "nbformat_minor": 5
}
